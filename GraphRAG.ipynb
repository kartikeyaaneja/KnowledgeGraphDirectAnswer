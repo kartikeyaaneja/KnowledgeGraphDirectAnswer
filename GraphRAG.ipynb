{
 "cells": [
  {
   "cell_type": "code",
   "execution_count": 1,
   "id": "2728f71c-f09b-4df0-8840-ad5cc207cb34",
   "metadata": {},
   "outputs": [
    {
     "name": "stderr",
     "output_type": "stream",
     "text": [
      "Some weights of PegasusForConditionalGeneration were not initialized from the model checkpoint at tuner007/pegasus_paraphrase and are newly initialized: ['model.decoder.embed_positions.weight', 'model.encoder.embed_positions.weight']\n",
      "You should probably TRAIN this model on a down-stream task to be able to use it for predictions and inference.\n"
     ]
    }
   ],
   "source": [
    "from rag_eval import *"
   ]
  },
  {
   "cell_type": "markdown",
   "id": "303b1679-2a7c-416b-bcbd-db41016ec368",
   "metadata": {},
   "source": [
    "### Same as Endpoint /build"
   ]
  },
  {
   "cell_type": "code",
   "execution_count": 2,
   "id": "f8074e95-28d5-4c61-8457-6e9eef85f820",
   "metadata": {
    "scrolled": true,
    "tags": []
   },
   "outputs": [
    {
     "name": "stdout",
     "output_type": "stream",
     "text": [
      "Cleared existing knowledge graph\n",
      "Q: What is the primary objective of the Capital Works Management Framework?\n",
      "A: To ensure cost certainty, value for money, and efficient project delivery\n",
      "\n",
      "Q: Under the new Public Works Contracts, who is responsible for design in a Traditional Contract?\n",
      "A: The Employer's design team\n",
      "\n",
      "Q: Which of the following is NOT a key change introduced by the new Public Works Contracts?\n",
      "A: Mandatory use of nominated subcontractors\n",
      "\n",
      "Q: What is the purpose of Programme Contingency?\n",
      "A: To account for delays and costs arising from Compensation Events\n",
      "\n",
      "Q: In the new contracts, what replaces the role of nominated subcontractors?\n",
      "A: Specialists\n",
      "\n",
      "Q: Which clause in the Schedule Part 1 allows the Employer to allocate risk for unforeseeable ground conditions?\n",
      "A: Section K, Item 19\n",
      "\n",
      "Q: What is the default retention percentage specified in the Schedule Part 1?\n",
      "A: 10%\n",
      "\n",
      "Q: Under the Design and Build Contract, who is responsible for ensuring the Works are fit for purpose?\n",
      "A: The Contractor\n",
      "\n",
      "Q: Which of the following is a Compensation Event under the Traditional Contract?\n",
      "A: Unforeseeable ground conditions (if allocated to the Employer)\n",
      "\n",
      "Q: What is the maximum period for which the Contractor must maintain Professional Indemnity insurance after Substantial Completion?\n",
      "A: 6 years\n",
      "\n",
      "Q: Which document defines the Contractor's daily delay costs for Compensation Events?\n",
      "A: Schedule Part 2, Section E\n",
      "\n",
      "Q: What is the consequence if the Contractor fails to provide a revised programme upon request?\n",
      "A: Withholding of 15% of payments\n",
      "\n",
      "Q: Under which clause can the Employer reject the entire Works due to serious defects?\n",
      "A: Clause 8.5.5\n",
      "\n",
      "Q: What is the primary purpose of the Letter of Acceptance?\n",
      "A: To form a binding contract\n",
      "\n",
      "Q: Which of the following is NOT an Employer's Risk under Clause 3.1?\n",
      "A: Contractor's negligence\n",
      "\n",
      "Q: What is the default appointing body for conciliation if none is specified in the Schedule?\n",
      "A: Chartered Institute of Arbitrators Irish Branch\n",
      "\n",
      "Q: Under Clause 5.3, what must the Contractor ensure regarding workpersons' wages?\n",
      "A: Wages are never more than a month in arrears\n",
      "\n",
      "Q: Which clause allows the Employer to deduct estimated unpaid wages from the Contractor?\n",
      "A: Clause 5.3.6\n",
      "\n",
      "Q: What is the Contractor's obligation under Clause 7.8 if archaeological artefacts are found?\n",
      "A: Preserve them and notify the Employer\n",
      "\n",
      "Q: Which clause governs the Contractor's responsibility for Site security?\n",
      "A: Clause 7.2\n",
      "\n",
      "Q: What is the primary purpose of the Works Requirements in a Design and Build Contract?\n",
      "A: To specify performance or output criteria\n",
      "\n",
      "Q: Under Clause 4.5, when must the ER issue a Change Order?\n",
      "A: When it is physically impossible to comply with the Works Requirements\n",
      "\n",
      "Q: What is the time limit for the ER to object to a Contractor's submission under Clause 4.7?\n",
      "A: 10 working days\n",
      "\n",
      "Q: Which clause allows the Employer to terminate the Contract if the Starting Date does not occur?\n",
      "A: Clause 12.1.1\n",
      "\n",
      "Q: What is the Contractor's liability for design by Specialists?\n",
      "A: Full liability as if the design were their own\n",
      "\n",
      "Q: Which clause requires the Contractor to provide a Quality Assurance system?\n",
      "A: Clause 8.2\n",
      "\n",
      "Q: What is the Contractor's obligation under Clause 7.10 on completion?\n",
      "A: To leave the Site in a proper condition\n",
      "\n",
      "Q: Under Clause 11.5, when must the ER issue the penultimate payment certificate?\n",
      "A: Within 3 months of the final statement\n",
      "\n",
      "Q: Which clause governs the Contractor's right to suspend work for non-payment?\n",
      "A: Clause 12.3\n",
      "\n",
      "Q: What is the primary purpose of the Pricing Document?\n",
      "A: To evaluate tenders and value change orders\n",
      "\n",
      "Q: Under Clause 3.7, when is Professional Indemnity insurance required?\n",
      "A: If specified in the Schedule Part 1D\n",
      "\n",
      "Q: What is the Contractor's obligation under Clause 4.16 regarding confidentiality?\n",
      "A: To protect commercially sensitive information for 5 years\n",
      "\n",
      "Q: Which clause allows the ER to extend the Defects Period?\n",
      "A: Clause 8.6.2\n",
      "\n",
      "Q: What is the Contractor's responsibility under Clause 8.1 in a Traditional Contract?\n",
      "A: Fitness for purpose of Works Items they select\n",
      "\n",
      "Q: Under Clause 10.8, which Price Variation option is the default?\n",
      "A: PV1 (Proven Cost Method)\n",
      "\n",
      "Q: What is the Employer's entitlement under Clause 8.5.3 if the Contractor fails to rectify defects?\n",
      "A: To have the work done by others at the Contractor's cost\n",
      "\n",
      "Q: Which clause governs the Contractor's obligation to provide collateral warranties?\n",
      "A: Clause 5.5\n",
      "\n",
      "Q: What is the purpose of the Defects Certificate?\n",
      "A: To confirm all defects have been rectified\n",
      "\n",
      "Q: Under Clause 4.3, who appoints the Employer's Representative?\n",
      "A: The Employer\n",
      "\n",
      "Q: Which clause governs the Contractor's right to claim for unforeseen utilities delays?\n",
      "A: Schedule Part 1K, Item 21\n",
      "\n",
      "Q: What is the Contractor's obligation under Clause 7.7 regarding setting out?\n",
      "A: To check information before setting out\n",
      "\n",
      "Q: Under Clause 3.6, who is covered by the Contractor's Public Liability insurance?\n",
      "A: The Contractor and Employer as co-insured\n",
      "\n",
      "Q: Which clause allows the ER to instruct the Contractor to search for defects?\n",
      "A: Clause 8.5\n",
      "\n",
      "Q: 44. What is the Contractor's obligation under Clause 4.9 regarding the programme?\n",
      "A: To submit a detailed programme before the Starting Date\n",
      "\n",
      "Q: Under Clause 11.2, what is the default percentage for valuing unfixed Works Items in interim payments?\n",
      "A: 90%\n",
      "\n",
      "Q: Which clause governs the Contractor's responsibility for existing property damage?\n",
      "A: Clause 3.8 (if stated in the Schedule)\n",
      "\n",
      "Q: What is the Contractor's obligation under Clause 4.14 regarding communications?\n",
      "A: To interpret communications purposefully\n",
      "\n",
      "Q: Under Clause 12.6, what must the ER determine within 10 working days of termination?\n",
      "A: The termination value\n",
      "\n",
      "Q: Which clause allows the Employer to require random checks on wage records?\n",
      "A: Clause 5.3.3A (if stated in the Schedule)\n",
      "\n",
      "Q: What is the primary purpose of the Agreement document?\n",
      "A: To confirm the Contract Sum and parties\n",
      "\n",
      "\n",
      "Relationships:\n",
      "Capital Works Management Framework -[OBJECTIVE]-> Cost Certainty\n",
      "Capital Works Management Framework -[OBJECTIVE]-> Value For Money\n",
      "Capital Works Management Framework -[OBJECTIVE]-> Efficient Project Delivery\n",
      "Public Works Contracts -[RESPONSIBLE]-> Employer'S Design Team\n",
      "Traditional Contract -[RESPONSIBLE]-> Employer'S Design Team\n",
      "Public Works Contracts -[CHANGE]-> Mandatory Use Of Nominated Subcontractors\n",
      "Programme Contingency -[ACCOUNT_FOR]-> Delays\n",
      "Programme Contingency -[ACCOUNT_FOR]-> Costs\n",
      "Compensation Events -[ACCOUNT_FOR]-> Programme Contingency\n",
      "Nominated Subcontractors -[REPLACE]-> Specialists\n",
      "Schedule Part 1 -[ALLOCATE_RISK_FOR]-> Unforeseeable Ground Conditions\n",
      "Schedule Part 1 -[SPECIFY]-> Default Retention Percentage\n",
      "Design And Build Contract -[RESPONSIBLE_FOR]-> Works\n",
      "Design And Build Contract -[ENSURE]-> Fit For Purpose\n",
      "Contractor -[RESPONSIBLE_FOR]-> Works\n",
      "Substantial Completion -[MAINTAIN_AFTER]-> Professional Indemnity Insurance\n",
      "Schedule Part 2 -[DEFINE]-> Daily Delay Costs\n",
      "Revised Programme -[FAIL_TO_PROVIDE]-> Payments\n",
      "Serious Defects -[REJECT]-> Employer\n",
      "Letter Of Acceptance -[FORM]-> Contractor\n",
      "Employer'S Risk -[NOT]-> Contractor'S Negligence\n",
      "Schedule Part 1 -[SPECIFY]-> Appointing Body\n",
      "Conciliation -[APPOINT]-> Chartered Institute Of Arbitrators Irish Branch\n",
      "Workpersons' Wages -[ENSURE]-> Wages\n",
      "Change Order -[COMPLY_WITH]-> Works\n",
      "Change Order -[PHYSICALLY_IMPOSSIBLE_TO_COMPLY_WITH]-> Works\n",
      "Time Limit -[ISSUE]-> Change Order\n",
      "Starting Date -[TERMINATE_IF_NOT_OCCUR]-> Contract\n",
      "Contractor -[LIABILITY_FOR]-> Specialists\n",
      "Quality Assurance System -[PROVIDE]-> Contractor\n",
      "Completion -[LEAVE_IN]-> Site\n",
      "Site Security -[RESPONSIBLE_FOR]-> Contractor\n",
      "Works Requirements -[SPECIFY]-> Performance\n",
      "Works Requirements -[SPECIFY]-> Output Criteria\n",
      "Pricing Document -[EVALUATE]-> Tenders\n",
      "Pricing Document -[VALUE]-> Change Orders\n",
      "Professional Indemnity Insurance -[REQUIRE_IF_SPECIFIED_IN]-> Schedule Part 1D\n",
      "Confidentiality -[PROTECT]-> Protect Commercially Sensitive Information\n",
      "Defects Period -[CONFIRM_ALL_HAVE_BEEN_RECTIFIED]-> Defects\n",
      "Price Variation Option -[DEFAULT]-> Pv1\n",
      "Rectify Defects -[HAVE_DONE_BY_OTHERS_AT]-> Employer\n",
      "Collateral Warranties -[PROVIDE]-> Contractor\n",
      "Defects Certificate -[CONFIRM]-> Defects\n",
      "Employer'S Representative -[APPOINT]-> Employer\n",
      "Utilities Delays -[CLAIM_FOR]-> Contractor\n",
      "Setting Out -[CHECK_INFORMATION_BEFORE]-> Contractor\n",
      "Public Liability Insurance -[COVER]-> Contractor\n",
      "Public Liability Insurance -[COVER]-> Employer\n",
      "Search For Defects -[INSTRUCT]-> Employer\n",
      "Programme -[SUBMIT_BEFORE]-> Starting Date\n",
      "Unfixed Works Items -[VALUE_IN]-> Interim Payments\n",
      "Existing Property Damage -[RESPONSIBLE_FOR]-> Contractor\n",
      "Communications -[INTERPRET]-> Interpret Communications Purposefully\n",
      "Termination -[DETERMINE_WITHIN]-> Termination Value\n",
      "Random Checks -[REQUIRE]-> Wage Records\n",
      "Agreement Document -[CONFIRM]-> Contract Sum\n",
      "Agreement Document -[CONFIRM]-> Parties\n",
      "\n",
      "Nodes:\n",
      "Node ID: Capital Works Management Framework, Type: Framework\n",
      "Node ID: Cost Certainty, Type: Objective\n",
      "Node ID: Value For Money, Type: Objective\n",
      "Node ID: Efficient Project Delivery, Type: Objective\n",
      "Node ID: Public Works Contracts, Type: Contracts\n",
      "Node ID: Employer'S Design Team, Type: Responsible party\n",
      "Node ID: Traditional Contract, Type: Contract type\n",
      "Node ID: Mandatory Use Of Nominated Subcontractors, Type: Change\n",
      "Node ID: Programme Contingency, Type: Purpose\n",
      "Node ID: Delays, Type: Issue\n",
      "Node ID: Costs, Type: Issue\n",
      "Node ID: Compensation Events, Type: Events\n",
      "Node ID: Nominated Subcontractors, Type: Role\n",
      "Node ID: Specialists, Type: Role\n",
      "Node ID: Schedule Part 1, Type: Document\n",
      "Node ID: Unforeseeable Ground Conditions, Type: Risk\n",
      "Node ID: Default Retention Percentage, Type: Percentage\n",
      "Node ID: Design And Build Contract, Type: Contract type\n",
      "Node ID: Works, Type: Responsibility\n",
      "Node ID: Fit For Purpose, Type: Requirement\n",
      "Node ID: Contractor, Type: Role\n",
      "Node ID: Substantial Completion, Type: Milestone\n",
      "Node ID: Professional Indemnity Insurance, Type: Insurance\n",
      "Node ID: Schedule Part 2, Type: Document\n",
      "Node ID: Daily Delay Costs, Type: Costs\n",
      "Node ID: Revised Programme, Type: Requirement\n",
      "Node ID: Payments, Type: Consequence\n",
      "Node ID: Serious Defects, Type: Issue\n",
      "Node ID: Employer, Type: Role\n",
      "Node ID: Letter Of Acceptance, Type: Document\n",
      "Node ID: Employer'S Risk, Type: Risk\n",
      "Node ID: Contractor'S Negligence, Type: Risk\n",
      "Node ID: Appointing Body, Type: Body\n",
      "Node ID: Conciliation, Type: Process\n",
      "Node ID: Chartered Institute Of Arbitrators Irish Branch, Type: Institution\n",
      "Node ID: Workpersons' Wages, Type: Requirement\n",
      "Node ID: Wages, Type: Payment\n",
      "Node ID: Change Order, Type: Order\n",
      "Node ID: Time Limit, Type: Limit\n",
      "Node ID: Starting Date, Type: Date\n",
      "Node ID: Contract, Type: Role\n",
      "Node ID: Quality Assurance System, Type: System\n",
      "Node ID: Completion, Type: Requirement\n",
      "Node ID: Site, Type: Location\n",
      "Node ID: Site Security, Type: Security\n",
      "Node ID: Works Requirements, Type: Specification\n",
      "Node ID: Performance, Type: Requirement\n",
      "Node ID: Output Criteria, Type: Requirement\n",
      "Node ID: Pricing Document, Type: Document\n",
      "Node ID: Tenders, Type: Evaluation\n",
      "Node ID: Change Orders, Type: Orders\n",
      "Node ID: Schedule Part 1D, Type: Document\n",
      "Node ID: Confidentiality, Type: Requirement\n",
      "Node ID: Protect Commercially Sensitive Information, Type: Requirement\n",
      "Node ID: Defects Period, Type: Period\n",
      "Node ID: Defects, Type: Issues\n",
      "Node ID: Price Variation Option, Type: Option\n",
      "Node ID: Pv1, Type: Method\n",
      "Node ID: Rectify Defects, Type: Action\n",
      "Node ID: Collateral Warranties, Type: Warranties\n",
      "Node ID: Defects Certificate, Type: Certificate\n",
      "Node ID: Employer'S Representative, Type: Representative\n",
      "Node ID: Utilities Delays, Type: Delays\n",
      "Node ID: Setting Out, Type: Activity\n",
      "Node ID: Public Liability Insurance, Type: Insurance\n",
      "Node ID: Search For Defects, Type: Action\n",
      "Node ID: Programme, Type: Requirement\n",
      "Node ID: Unfixed Works Items, Type: Items\n",
      "Node ID: Interim Payments, Type: Payments\n",
      "Node ID: Existing Property Damage, Type: Damage\n",
      "Node ID: Communications, Type: Requirement\n",
      "Node ID: Interpret Communications Purposefully, Type: Requirement\n",
      "Node ID: Termination, Type: Action\n",
      "Node ID: Termination Value, Type: Action\n",
      "Node ID: Random Checks, Type: Checks\n",
      "Node ID: Wage Records, Type: Records\n",
      "Node ID: Agreement Document, Type: Document\n",
      "Node ID: Contract Sum, Type: Sum\n",
      "Node ID: Parties, Type: Parties\n"
     ]
    }
   ],
   "source": [
    "llm_transformer = LLMGraphTransformer(llm=llm)\n",
    "buildKG(verbose=True)\n",
    "createEmbeddings()"
   ]
  },
  {
   "cell_type": "markdown",
   "id": "06d36ad6-202c-46e9-aa31-230aacb16fe2",
   "metadata": {
    "tags": []
   },
   "source": [
    "## Evaluation questions"
   ]
  },
  {
   "cell_type": "markdown",
   "id": "0dc79c5a-b2c3-4eea-8835-4895d7f93ccc",
   "metadata": {
    "tags": []
   },
   "source": [
    "### Evaluating Recall Using LLM as Judge\n",
    "\n",
    "(Can the system answer all the questions it was fed correctly)"
   ]
  },
  {
   "cell_type": "code",
   "execution_count": 3,
   "id": "b3067668-e0db-435a-a08e-d739a6bf3d3a",
   "metadata": {},
   "outputs": [
    {
     "data": {
      "text/plain": [
       "0.46"
      ]
     },
     "execution_count": 3,
     "metadata": {},
     "output_type": "execute_result"
    }
   ],
   "source": [
    "accuracy = recallEval(runAgain=False)\n",
    "accuracy"
   ]
  },
  {
   "cell_type": "markdown",
   "id": "62c656fc-0ae7-43ae-9f90-f78eaaa14043",
   "metadata": {},
   "source": [
    "### Complex Manual Evaluation"
   ]
  },
  {
   "cell_type": "markdown",
   "id": "6dd78323-6fec-463e-bf6f-67b1b4bba5e9",
   "metadata": {},
   "source": [
    "### Complexity: Question using synonyms"
   ]
  },
  {
   "cell_type": "markdown",
   "id": "f3fa2593-682a-40d6-b3c2-070e87849dea",
   "metadata": {},
   "source": [
    "Original:"
   ]
  },
  {
   "cell_type": "code",
   "execution_count": 4,
   "id": "dd6d3ecb-fb23-4e76-bf43-c1e8e140aecf",
   "metadata": {},
   "outputs": [],
   "source": [
    "question = \"Which of the following is NOT an Employer's Risk under Clause 3.1\""
   ]
  },
  {
   "cell_type": "code",
   "execution_count": 5,
   "id": "c3b7cace-1839-4486-8a84-2a05436bb1e4",
   "metadata": {},
   "outputs": [
    {
     "name": "stderr",
     "output_type": "stream",
     "text": [
      "You're using a XLMRobertaTokenizerFast tokenizer. Please note that with a fast tokenizer, using the `__call__` method is faster than using a method to encode the text followed by a call to the `pad` method to get a padded encoding.\n"
     ]
    },
    {
     "name": "stdout",
     "output_type": "stream",
     "text": [
      "Contractor's Negligence is not the employer's risk.\n",
      "Employers have public liability insurance.\n",
      "There are serious defects that need to be rejected as an employer.\n",
      "The search for defects is done by the employer.\n"
     ]
    }
   ],
   "source": [
    "ans = answerQuestion(question, filterLimit=0, minimum=4)\n",
    "print(ans)"
   ]
  },
  {
   "cell_type": "markdown",
   "id": "9f1f5957-f6f8-4cb5-a542-1563a0f8ec77",
   "metadata": {},
   "source": [
    "**Evaluation:**\n",
    "\n",
    "Answered Correctly using the first statement"
   ]
  },
  {
   "cell_type": "markdown",
   "id": "32acfc95-70e6-4931-b5c4-b30ffaf60fbf",
   "metadata": {},
   "source": [
    "Using Synonnyms: "
   ]
  },
  {
   "cell_type": "code",
   "execution_count": 6,
   "id": "e933c320-eb19-48d0-a4f5-c5ceb1ae5158",
   "metadata": {},
   "outputs": [],
   "source": [
    "question = \"Which is not the responsibility of the Employer according to Clause 3.1?\""
   ]
  },
  {
   "cell_type": "code",
   "execution_count": 7,
   "id": "e8d857c3-7ee7-4576-b321-9694e79babe0",
   "metadata": {},
   "outputs": [
    {
     "name": "stderr",
     "output_type": "stream",
     "text": [
      "You seem to be using the pipelines sequentially on GPU. In order to maximize efficiency please use a dataset\n"
     ]
    },
    {
     "name": "stdout",
     "output_type": "stream",
     "text": [
      "The search for defects is done by the employer.\n",
      "Contractor's Negligence is not the employer's risk.\n",
      "Employers have public liability insurance.\n",
      "There are serious defects that need to be rejected as an employer.\n"
     ]
    }
   ],
   "source": [
    "ans = answerQuestion(question, filterLimit=0, minimum=4)\n",
    "print(ans)"
   ]
  },
  {
   "cell_type": "markdown",
   "id": "1425a441-a3e2-4da3-b148-4add21bc6b30",
   "metadata": {},
   "source": [
    "**Evaluation:**\n",
    "\n",
    "\n",
    "Answered Correctly using the second statement\n",
    "\n",
    "(First statement also relevant)"
   ]
  },
  {
   "cell_type": "markdown",
   "id": "d779b029-e94a-4f2c-9eaa-e66497ed21a3",
   "metadata": {},
   "source": [
    "### Complexity: 2 questions in one"
   ]
  },
  {
   "cell_type": "code",
   "execution_count": 8,
   "id": "b4b744e7-b731-4434-bd56-4f5a37ef0753",
   "metadata": {},
   "outputs": [],
   "source": [
    "question = \"Under the new Public Works Contracts, who is responsible for design in a Traditional Contract and what is the purpose of Programme Contingency\""
   ]
  },
  {
   "cell_type": "code",
   "execution_count": 9,
   "id": "1971bff0-5225-412a-9158-a0ce4d48bc8f",
   "metadata": {},
   "outputs": [
    {
     "name": "stdout",
     "output_type": "stream",
     "text": [
      "The design team is responsible for the contract.\n",
      "Employer's design team is responsible for public works contracts.\n",
      "There is a contingency account for costs.\n",
      "The design and build contract is responsible.\n"
     ]
    }
   ],
   "source": [
    "ans = answerQuestion(question, filterLimit=0, minimum=4)\n",
    "print(ans)"
   ]
  },
  {
   "cell_type": "markdown",
   "id": "df2b574f-a14b-47fa-9933-b2320995ab8b",
   "metadata": {},
   "source": [
    "**Evaluation:**\n",
    "\n",
    "Perfect answer to both questions"
   ]
  },
  {
   "cell_type": "code",
   "execution_count": null,
   "id": "ec33d7ab-a9a5-474a-a334-70c942d2a3e6",
   "metadata": {},
   "outputs": [],
   "source": []
  }
 ],
 "metadata": {
  "kernelspec": {
   "display_name": "Python 3 (ipykernel)",
   "language": "python",
   "name": "python3"
  },
  "language_info": {
   "codemirror_mode": {
    "name": "ipython",
    "version": 3
   },
   "file_extension": ".py",
   "mimetype": "text/x-python",
   "name": "python",
   "nbconvert_exporter": "python",
   "pygments_lexer": "ipython3",
   "version": "3.11.1"
  }
 },
 "nbformat": 4,
 "nbformat_minor": 5
}

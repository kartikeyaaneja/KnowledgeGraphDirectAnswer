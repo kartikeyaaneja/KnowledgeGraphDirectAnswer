{
 "cells": [
  {
   "cell_type": "code",
   "execution_count": 1,
   "id": "2728f71c-f09b-4df0-8840-ad5cc207cb34",
   "metadata": {},
   "outputs": [
    {
     "name": "stderr",
     "output_type": "stream",
     "text": [
      "Some weights of PegasusForConditionalGeneration were not initialized from the model checkpoint at tuner007/pegasus_paraphrase and are newly initialized: ['model.decoder.embed_positions.weight', 'model.encoder.embed_positions.weight']\n",
      "You should probably TRAIN this model on a down-stream task to be able to use it for predictions and inference.\n"
     ]
    }
   ],
   "source": [
    "from rag_eval import *"
   ]
  },
  {
   "cell_type": "markdown",
   "id": "303b1679-2a7c-416b-bcbd-db41016ec368",
   "metadata": {},
   "source": [
    "### Same as Endpoint /build"
   ]
  },
  {
   "cell_type": "code",
   "execution_count": 2,
   "id": "f8074e95-28d5-4c61-8457-6e9eef85f820",
   "metadata": {
    "scrolled": true,
    "tags": []
   },
   "outputs": [
    {
     "name": "stdout",
     "output_type": "stream",
     "text": [
      "Dropped index: docEmbeddings\n",
      "Dropped index: entityEmbeddings\n",
      "Dropped index: labelEmbeddings\n",
      "Cleared existing knowledge graph\n",
      "Q: What is the primary objective of the Capital Works Management Framework?\n",
      "A: To ensure cost certainty, value for money, and efficient project delivery\n",
      "\n",
      "Q: Under the new Public Works Contracts, who is responsible for design in a Traditional Contract?\n",
      "A: The Employer's design team\n",
      "\n",
      "Q: Which of the following is NOT a key change introduced by the new Public Works Contracts?\n",
      "A: Mandatory use of nominated subcontractors\n",
      "\n",
      "Q: What is the purpose of Programme Contingency?\n",
      "A: To account for delays and costs arising from Compensation Events\n",
      "\n",
      "Q: In the new contracts, what replaces the role of nominated subcontractors?\n",
      "A: Specialists\n",
      "\n",
      "Q: Which clause in the Schedule Part 1 allows the Employer to allocate risk for unforeseeable ground conditions?\n",
      "A: Section K, Item 19\n",
      "\n",
      "Q: What is the default retention percentage specified in the Schedule Part 1?\n",
      "A: 10%\n",
      "\n",
      "Q: Under the Design and Build Contract, who is responsible for ensuring the Works are fit for purpose?\n",
      "A: The Contractor\n",
      "\n",
      "Q: Which of the following is a Compensation Event under the Traditional Contract?\n",
      "A: Unforeseeable ground conditions (if allocated to the Employer)\n",
      "\n",
      "Q: What is the maximum period for which the Contractor must maintain Professional Indemnity insurance after Substantial Completion?\n",
      "A: 6 years\n",
      "\n",
      "Q: Which document defines the Contractor's daily delay costs for Compensation Events?\n",
      "A: Schedule Part 2, Section E\n",
      "\n",
      "Q: What is the consequence if the Contractor fails to provide a revised programme upon request?\n",
      "A: Withholding of 15% of payments\n",
      "\n",
      "Q: Under which clause can the Employer reject the entire Works due to serious defects?\n",
      "A: Clause 8.5.5\n",
      "\n",
      "Q: What is the primary purpose of the Letter of Acceptance?\n",
      "A: To form a binding contract\n",
      "\n",
      "Q: Which of the following is NOT an Employer's Risk under Clause 3.1?\n",
      "A: Contractor's negligence\n",
      "\n",
      "Q: What is the default appointing body for conciliation if none is specified in the Schedule?\n",
      "A: Chartered Institute of Arbitrators Irish Branch\n",
      "\n",
      "Q: Under Clause 5.3, what must the Contractor ensure regarding workpersons' wages?\n",
      "A: Wages are never more than a month in arrears\n",
      "\n",
      "Q: Which clause allows the Employer to deduct estimated unpaid wages from the Contractor?\n",
      "A: Clause 5.3.6\n",
      "\n",
      "Q: What is the Contractor's obligation under Clause 7.8 if archaeological artefacts are found?\n",
      "A: Preserve them and notify the Employer\n",
      "\n",
      "Q: Which clause governs the Contractor's responsibility for Site security?\n",
      "A: Clause 7.2\n",
      "\n",
      "Q: What is the primary purpose of the Works Requirements in a Design and Build Contract?\n",
      "A: To specify performance or output criteria\n",
      "\n",
      "Q: Under Clause 4.5, when must the ER issue a Change Order?\n",
      "A: When it is physically impossible to comply with the Works Requirements\n",
      "\n",
      "Q: What is the time limit for the ER to object to a Contractor's submission under Clause 4.7?\n",
      "A: 10 working days\n",
      "\n",
      "Q: Which clause allows the Employer to terminate the Contract if the Starting Date does not occur?\n",
      "A: Clause 12.1.1\n",
      "\n",
      "Q: What is the Contractor's liability for design by Specialists?\n",
      "A: Full liability as if the design were their own\n",
      "\n",
      "Q: Which clause requires the Contractor to provide a Quality Assurance system?\n",
      "A: Clause 8.2\n",
      "\n",
      "Q: What is the Contractor's obligation under Clause 7.10 on completion?\n",
      "A: To leave the Site in a proper condition\n",
      "\n",
      "Q: Under Clause 11.5, when must the ER issue the penultimate payment certificate?\n",
      "A: Within 3 months of the final statement\n",
      "\n",
      "Q: Which clause governs the Contractor's right to suspend work for non-payment?\n",
      "A: Clause 12.3\n",
      "\n",
      "Q: What is the primary purpose of the Pricing Document?\n",
      "A: To evaluate tenders and value change orders\n",
      "\n",
      "Q: Under Clause 3.7, when is Professional Indemnity insurance required?\n",
      "A: If specified in the Schedule Part 1D\n",
      "\n",
      "Q: What is the Contractor's obligation under Clause 4.16 regarding confidentiality?\n",
      "A: To protect commercially sensitive information for 5 years\n",
      "\n",
      "Q: Which clause allows the ER to extend the Defects Period?\n",
      "A: Clause 8.6.2\n",
      "\n",
      "Q: What is the Contractor's responsibility under Clause 8.1 in a Traditional Contract?\n",
      "A: Fitness for purpose of Works Items they select\n",
      "\n",
      "Q: Under Clause 10.8, which Price Variation option is the default?\n",
      "A: PV1 (Proven Cost Method)\n",
      "\n",
      "Q: What is the Employer's entitlement under Clause 8.5.3 if the Contractor fails to rectify defects?\n",
      "A: To have the work done by others at the Contractor's cost\n",
      "\n",
      "Q: Which clause governs the Contractor's obligation to provide collateral warranties?\n",
      "A: Clause 5.5\n",
      "\n",
      "Q: What is the purpose of the Defects Certificate?\n",
      "A: To confirm all defects have been rectified\n",
      "\n",
      "Q: Under Clause 4.3, who appoints the Employer's Representative?\n",
      "A: The Employer\n",
      "\n",
      "Q: Which clause governs the Contractor's right to claim for unforeseen utilities delays?\n",
      "A: Schedule Part 1K, Item 21\n",
      "\n",
      "Q: What is the Contractor's obligation under Clause 7.7 regarding setting out?\n",
      "A: To check information before setting out\n",
      "\n",
      "Q: Under Clause 3.6, who is covered by the Contractor's Public Liability insurance?\n",
      "A: The Contractor and Employer as co-insured\n",
      "\n",
      "Q: Which clause allows the ER to instruct the Contractor to search for defects?\n",
      "A: Clause 8.5\n",
      "\n",
      "Q: 44. What is the Contractor's obligation under Clause 4.9 regarding the programme?\n",
      "A: To submit a detailed programme before the Starting Date\n",
      "\n",
      "Q: Under Clause 11.2, what is the default percentage for valuing unfixed Works Items in interim payments?\n",
      "A: 90%\n",
      "\n",
      "Q: Which clause governs the Contractor's responsibility for existing property damage?\n",
      "A: Clause 3.8 (if stated in the Schedule)\n",
      "\n",
      "Q: What is the Contractor's obligation under Clause 4.14 regarding communications?\n",
      "A: To interpret communications purposefully\n",
      "\n",
      "Q: Under Clause 12.6, what must the ER determine within 10 working days of termination?\n",
      "A: The termination value\n",
      "\n",
      "Q: Which clause allows the Employer to require random checks on wage records?\n",
      "A: Clause 5.3.3A (if stated in the Schedule)\n",
      "\n",
      "Q: What is the primary purpose of the Agreement document?\n",
      "A: To confirm the Contract Sum and parties\n",
      "\n",
      "\n",
      "Relationships:\n",
      "Capital Works Management Framework -[OBJECTIVE]-> Cost Certainty\n",
      "Capital Works Management Framework -[OBJECTIVE]-> Value For Money\n",
      "Capital Works Management Framework -[OBJECTIVE]-> Efficient Project Delivery\n",
      "Public Works Contracts -[RESPONSIBLE_FOR]-> Employer'S Design Team\n",
      "Public Works Contracts -[INTRODUCED_CHANGE]-> Mandatory Use Of Nominated Subcontractors\n",
      "Programme Contingency -[PURPOSE]-> Delays And Costs Arising From Compensation Events\n",
      "Public Works Contracts -[REPLACE]-> Specialists\n",
      "Section K, Item 19 -[ALLOCATE_RISK_FOR_UNFORESEEABLE_GROUND_CONDITIONS]-> Employer\n",
      "Schedule Part 1 -[SPECIFY]-> Default Retention Percentage\n",
      "Schedule Part 1 -[DEFAULT_RETENTION_PERCENTAGE]-> 10%\n",
      "Design And Build Contract -[RESPONSIBLE_FOR_FIT_FOR_PURPOSE]-> The Contractor\n",
      "Traditional Contract -[COMPENSATION_EVENT]-> Unforeseeable Ground Conditions (If Allocated To The Employer)\n",
      "Contractor -[MAINTAIN_INSURANCE_FOR]-> 6 Years\n",
      "Contractor -[MAINTAIN_INSURANCE_FOR]-> Professional Indemnity Insurance\n",
      "Contractor -[DEFINE_DAILY_DELAY_COSTS_FOR]-> Schedule Part 2, Section E\n",
      "Contractor -[CONSEQUENCE_OF_FAILING_TO_PROVIDE_REVISED_PROGRAMME]-> Withholding Of 15% Of Payments\n",
      "Employer -[REJECT_ENTIRE_WORKS_DUE_TO]-> Serious Defects\n",
      "Letter Of Acceptance -[PRIMARY_PURPOSE_IS_TO]-> Form A Binding Contract\n",
      "Employer -[NOT_AN_EMPLOYER'S_RISK]-> Contractor'S Negligence\n",
      "Schedule -[DEFAULT_APPOINTING_BODY_FOR_CONCILIATION_IF_NONE_SPECIFIED]-> Chartered Institute Of Arbitrators Irish Branch\n",
      "Clause 5.3 -[ENSURE_REGARDING]-> Workpersons' Wages\n",
      "Clause 5.3 -[ENSURE_REGARDING]-> Wages Are Never More Than A Month In Arrears\n",
      "Clause 5.3 -[ALLOWS_DEDUCTION_OF_ESTIMATED_UNPAID_WAGES_FROM]-> Clause 5.3.6\n",
      "Clause 7.8 -[PRESERVE_AND_NOTIFY_REGARDING]-> Archaeological Artefacts\n",
      "Clause 7.2 -[RESPONSIBLE_FOR]-> Site Security\n",
      "Design And Build Contract -[SPECIFY]-> Works Requirements\n",
      "Clause 4.5 -[ISSUE_WHEN_PHYSICALLY_IMPOSSIBLE_TO_COMPLY_WITH]-> Change Order\n",
      "Clause 4.7 -[TIME_LIMIT_TO_OBJECT_TO_A_SUBMISSION]-> 10 Working Days\n",
      "Clause 12.1.1 -[TERMINATE_IF_STARTING_DATE_DOES_NOT_OCCUR]-> Starting Date\n",
      "Specialists -[LIABILITY_FOR_DESIGN_BY]-> Full Liability As If The Design Were Their Own\n",
      "Clause 8.2 -[PROVIDE]-> Quality Assurance System\n",
      "Clause 7.10 -[LEAVE_SITE_IN_PROPER_CONDITION_UPON]-> Completion\n",
      "Clause 11.5 -[ISSUE_WITHIN_3_MONTHS_OF_FINAL_STATEMENT]-> Penultimate Payment Certificate\n",
      "Clause 12.3 -[RIGHT_TO_SUSPEND_WORK_FOR]-> Non-Payment\n",
      "Pricing Document -[EVALUATE_AND_VALUE]-> Tenders And Value Change Orders\n",
      "Clause 3.7 -[REQUIRED_IF_SPECIFIED_IN_SCHEDULE_PART_1D]-> Professional Indemnity Insurance\n",
      "Clause 4.16 -[PROTECT_INFORMATION_FOR]-> Confidentiality\n",
      "Clause 8.6.2 -[EXTEND]-> Defects Period\n",
      "Traditional Contract -[RESPONSIBLE_FOR_FITNESS_FOR_PURPOSE_OF]-> Works Items\n",
      "Clause 10.8 -[DEFAULT_PRICE_VARIATION_OPTION_IS]-> Pv1 (Proven Cost Method)\n",
      "Clause 8.5.3 -[ENTITLED_TO_IF_CONTRACTOR_FAILS_TO]-> Rectify Defects\n",
      "Clause 5.5 -[PROVIDE]-> Collateral Warranties\n",
      "Defects Certificate -[CONFIRM_ALL_DEFECTS_HAVE_BEEN]-> Rectified\n",
      "Clause 4.3 -[APPOINT]-> Employer'S Representative\n",
      "Clause 5.3.3A -[ALLOWS_TO_REQUIRE]-> Random Checks On Wage Records\n",
      "Agreement Document -[CONFIRM]-> Contract Sum And Parties\n",
      "\n",
      "Nodes:\n",
      "Node ID: Capital Works Management Framework, Type: Framework\n",
      "Node ID: Cost Certainty, Type: Objective\n",
      "Node ID: Value For Money, Type: Objective\n",
      "Node ID: Efficient Project Delivery, Type: Objective\n",
      "Node ID: Public Works Contracts, Type: Contracts\n",
      "Node ID: Employer'S Design Team, Type: Responsibility\n",
      "Node ID: Mandatory Use Of Nominated Subcontractors, Type: Change\n",
      "Node ID: Programme Contingency, Type: Purpose\n",
      "Node ID: Delays And Costs Arising From Compensation Events, Type: Purpose\n",
      "Node ID: Specialists, Type: Role\n",
      "Node ID: Section K, Item 19, Type: Clause\n",
      "Node ID: Employer, Type: Risk\n",
      "Node ID: Schedule Part 1, Type: Document\n",
      "Node ID: Default Retention Percentage, Type: Percentage\n",
      "Node ID: 10%, Type: Percentage\n",
      "Node ID: Design And Build Contract, Type: Contract type\n",
      "Node ID: The Contractor, Type: Responsibility\n",
      "Node ID: Traditional Contract, Type: Contract type\n",
      "Node ID: Unforeseeable Ground Conditions (If Allocated To The Employer), Type: Compensation event\n",
      "Node ID: Contractor, Type: Role\n",
      "Node ID: 6 Years, Type: Period\n",
      "Node ID: Professional Indemnity Insurance, Type: Insurance\n",
      "Node ID: Schedule Part 2, Section E, Type: Document\n",
      "Node ID: Withholding Of 15% Of Payments, Type: Consequence\n",
      "Node ID: Serious Defects, Type: Reason\n",
      "Node ID: Letter Of Acceptance, Type: Purpose\n",
      "Node ID: Form A Binding Contract, Type: Action\n",
      "Node ID: Contractor'S Negligence, Type: Risk\n",
      "Node ID: Schedule, Type: Document\n",
      "Node ID: Chartered Institute Of Arbitrators Irish Branch, Type: Appointing body\n",
      "Node ID: Clause 5.3, Type: Clause\n",
      "Node ID: Workpersons' Wages, Type: Requirement\n",
      "Node ID: Wages Are Never More Than A Month In Arrears, Type: Condition\n",
      "Node ID: Clause 5.3.6, Type: Clause\n",
      "Node ID: Clause 7.8, Type: Clause\n",
      "Node ID: Archaeological Artefacts, Type: Obligation\n",
      "Node ID: Clause 7.2, Type: Clause\n",
      "Node ID: Site Security, Type: Responsibility\n",
      "Node ID: Works Requirements, Type: Purpose\n",
      "Node ID: Clause 4.5, Type: Clause\n",
      "Node ID: Change Order, Type: Requirement\n",
      "Node ID: Clause 4.7, Type: Clause\n",
      "Node ID: 10 Working Days, Type: Time limit\n",
      "Node ID: Clause 12.1.1, Type: Clause\n",
      "Node ID: Starting Date, Type: Event\n",
      "Node ID: Full Liability As If The Design Were Their Own, Type: Liability\n",
      "Node ID: Clause 8.2, Type: Clause\n",
      "Node ID: Quality Assurance System, Type: Requirement\n",
      "Node ID: Clause 7.10, Type: Clause\n",
      "Node ID: Completion, Type: Requirement\n",
      "Node ID: Clause 11.5, Type: Clause\n",
      "Node ID: Penultimate Payment Certificate, Type: Document\n",
      "Node ID: Clause 12.3, Type: Clause\n",
      "Node ID: Non-Payment, Type: Reason\n",
      "Node ID: Pricing Document, Type: Document\n",
      "Node ID: Tenders And Value Change Orders, Type: Purpose\n",
      "Node ID: Clause 3.7, Type: Clause\n",
      "Node ID: Clause 4.16, Type: Clause\n",
      "Node ID: Confidentiality, Type: Obligation\n",
      "Node ID: Clause 8.6.2, Type: Clause\n",
      "Node ID: Defects Period, Type: Period\n",
      "Node ID: Works Items, Type: Requirement\n",
      "Node ID: Clause 10.8, Type: Clause\n",
      "Node ID: Pv1 (Proven Cost Method), Type: Option\n",
      "Node ID: Clause 8.5.3, Type: Clause\n",
      "Node ID: Rectify Defects, Type: Requirement\n",
      "Node ID: Clause 5.5, Type: Clause\n",
      "Node ID: Collateral Warranties, Type: Requirement\n",
      "Node ID: Defects Certificate, Type: Document\n",
      "Node ID: Rectified, Type: Action\n",
      "Node ID: Clause 4.3, Type: Clause\n",
      "Node ID: Employer'S Representative, Type: Appointment\n",
      "Node ID: Clause 5.3.3A, Type: Clause\n",
      "Node ID: Random Checks On Wage Records, Type: Requirement\n",
      "Node ID: Agreement Document, Type: Document\n",
      "Node ID: Contract Sum And Parties, Type: Purpose\n"
     ]
    }
   ],
   "source": [
    "prompt = \"Clauses and Numerical Percentages, etc count as nodes\"\n",
    "llm_transformer = LLMGraphTransformer(llm=llm, additional_instructions=prompt)\n",
    "buildKG(verbose=True, override=False)\n",
    "createEmbeddings()"
   ]
  },
  {
   "cell_type": "markdown",
   "id": "06d36ad6-202c-46e9-aa31-230aacb16fe2",
   "metadata": {
    "tags": []
   },
   "source": [
    "## Evaluation questions"
   ]
  },
  {
   "cell_type": "markdown",
   "id": "0dc79c5a-b2c3-4eea-8835-4895d7f93ccc",
   "metadata": {
    "tags": []
   },
   "source": [
    "### Evaluating Recall Using LLM as Judge\n",
    "\n",
    "(Can the system answer all the questions it was fed correctly)"
   ]
  },
  {
   "cell_type": "code",
   "execution_count": 3,
   "id": "b3067668-e0db-435a-a08e-d739a6bf3d3a",
   "metadata": {},
   "outputs": [
    {
     "name": "stderr",
     "output_type": "stream",
     "text": [
      "You're using a XLMRobertaTokenizerFast tokenizer. Please note that with a fast tokenizer, using the `__call__` method is faster than using a method to encode the text followed by a call to the `pad` method to get a padded encoding.\n",
      "You seem to be using the pipelines sequentially on GPU. In order to maximize efficiency please use a dataset\n"
     ]
    },
    {
     "data": {
      "text/plain": [
       "1.0"
      ]
     },
     "execution_count": 3,
     "metadata": {},
     "output_type": "execute_result"
    }
   ],
   "source": [
    "accuracy = recallEval(runAgain=False)\n",
    "accuracy"
   ]
  },
  {
   "cell_type": "markdown",
   "id": "62c656fc-0ae7-43ae-9f90-f78eaaa14043",
   "metadata": {},
   "source": [
    "### Complex Manual Evaluation"
   ]
  },
  {
   "cell_type": "code",
   "execution_count": 4,
   "id": "a2037431-5f48-4ee2-a33d-5cdbebcaf706",
   "metadata": {},
   "outputs": [],
   "source": [
    "question = \"What is the Contractor's obligation under Clause 7.8 if archaeological artefacts are found?\""
   ]
  },
  {
   "cell_type": "code",
   "execution_count": 5,
   "id": "7e875add-2ad4-4812-b07b-22b39fc8fb63",
   "metadata": {},
   "outputs": [
    {
     "name": "stdout",
     "output_type": "stream",
     "text": [
      "Archaeological artifacts are included in Clause 7.8PRESERVE AND NOTIFY.\n",
      "Works items are responsible for the contract's purpose.\n",
      "The contractor is responsible for the design and build contract.\n",
      "Clause 7.10 leaves the site in good condition upon completion.\n"
     ]
    }
   ],
   "source": [
    "ans = answerQuestion(question, filterLimit=0, minimum=4)\n",
    "print(ans)"
   ]
  },
  {
   "cell_type": "markdown",
   "id": "6dd78323-6fec-463e-bf6f-67b1b4bba5e9",
   "metadata": {},
   "source": [
    "### Complexity: Question using synonyms"
   ]
  },
  {
   "cell_type": "markdown",
   "id": "f3fa2593-682a-40d6-b3c2-070e87849dea",
   "metadata": {},
   "source": [
    "Original:"
   ]
  },
  {
   "cell_type": "code",
   "execution_count": 6,
   "id": "dd6d3ecb-fb23-4e76-bf43-c1e8e140aecf",
   "metadata": {},
   "outputs": [],
   "source": [
    "question = \"Which of the following is NOT an Employer's Risk under Clause 3.1\""
   ]
  },
  {
   "cell_type": "code",
   "execution_count": 7,
   "id": "c3b7cace-1839-4486-8a84-2a05436bb1e4",
   "metadata": {},
   "outputs": [
    {
     "name": "stdout",
     "output_type": "stream",
     "text": [
      "Contractor's Negligence is the employer's risk.\n",
      "The risk for unrestricted ground conditions is the responsibility of the employer.\n",
      "Clause 3.7 is Professional Indemnity Insurance.\n",
      "Workpersons' Wages is a part of Clause 5.3.\n"
     ]
    }
   ],
   "source": [
    "ans = answerQuestion(question, filterLimit=0, minimum=4)\n",
    "print(ans)"
   ]
  },
  {
   "cell_type": "markdown",
   "id": "9f1f5957-f6f8-4cb5-a542-1563a0f8ec77",
   "metadata": {},
   "source": [
    "**Evaluation:**\n",
    "\n",
    "Answered Correctly using the first statement"
   ]
  },
  {
   "cell_type": "markdown",
   "id": "32acfc95-70e6-4931-b5c4-b30ffaf60fbf",
   "metadata": {},
   "source": [
    "Using Synonnyms: "
   ]
  },
  {
   "cell_type": "code",
   "execution_count": 8,
   "id": "e933c320-eb19-48d0-a4f5-c5ceb1ae5158",
   "metadata": {},
   "outputs": [],
   "source": [
    "question = \"Which is not the responsibility of the Employer according to Clause 3.1?\""
   ]
  },
  {
   "cell_type": "code",
   "execution_count": 9,
   "id": "e8d857c3-7ee7-4576-b321-9694e79babe0",
   "metadata": {},
   "outputs": [
    {
     "name": "stdout",
     "output_type": "stream",
     "text": [
      "The risk for unrestricted ground conditions is the responsibility of the employer.\n",
      "Contractor's Negligence is the employer's risk.\n",
      "The APPOINT is the Employer's Representative.\n",
      "The right to suspend work for nonpayment is in Clause 12.3.\n"
     ]
    }
   ],
   "source": [
    "ans = answerQuestion(question, filterLimit=0, minimum=4)\n",
    "print(ans)"
   ]
  },
  {
   "cell_type": "markdown",
   "id": "1425a441-a3e2-4da3-b148-4add21bc6b30",
   "metadata": {},
   "source": [
    "**Evaluation:**\n",
    "\n",
    "\n",
    "Answered Correctly using the second statement\n",
    "\n",
    "(First statement also relevant)"
   ]
  },
  {
   "cell_type": "markdown",
   "id": "d779b029-e94a-4f2c-9eaa-e66497ed21a3",
   "metadata": {},
   "source": [
    "### Complexity: 2 questions in one"
   ]
  },
  {
   "cell_type": "code",
   "execution_count": 10,
   "id": "b4b744e7-b731-4434-bd56-4f5a37ef0753",
   "metadata": {},
   "outputs": [],
   "source": [
    "question = \"Under the new Public Works Contracts, who is responsible for design in a Traditional Contract and what is the purpose of Programme Contingency\""
   ]
  },
  {
   "cell_type": "code",
   "execution_count": 11,
   "id": "1971bff0-5225-412a-9158-a0ce4d48bc8f",
   "metadata": {},
   "outputs": [
    {
     "name": "stdout",
     "output_type": "stream",
     "text": [
      "Works items are responsible for the contract's purpose.\n",
      "Delays and costs from compensation events are the programme contingency purpose.\n",
      "Employer's design team is responsible for public works contracts.\n",
      "The contractor is responsible for the design and build contract.\n"
     ]
    }
   ],
   "source": [
    "ans = answerQuestion(question, filterLimit=0, minimum=4)\n",
    "print(ans)"
   ]
  },
  {
   "cell_type": "markdown",
   "id": "df2b574f-a14b-47fa-9933-b2320995ab8b",
   "metadata": {},
   "source": [
    "**Evaluation:**\n",
    "\n",
    "Perfect answer to both questions"
   ]
  },
  {
   "cell_type": "code",
   "execution_count": null,
   "id": "ec33d7ab-a9a5-474a-a334-70c942d2a3e6",
   "metadata": {},
   "outputs": [],
   "source": []
  }
 ],
 "metadata": {
  "kernelspec": {
   "display_name": "Python 3 (ipykernel)",
   "language": "python",
   "name": "python3"
  },
  "language_info": {
   "codemirror_mode": {
    "name": "ipython",
    "version": 3
   },
   "file_extension": ".py",
   "mimetype": "text/x-python",
   "name": "python",
   "nbconvert_exporter": "python",
   "pygments_lexer": "ipython3",
   "version": "3.11.1"
  }
 },
 "nbformat": 4,
 "nbformat_minor": 5
}
